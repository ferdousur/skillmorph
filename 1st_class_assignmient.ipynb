{
  "nbformat": 4,
  "nbformat_minor": 0,
  "metadata": {
    "colab": {
      "provenance": [],
      "toc_visible": true,
      "authorship_tag": "ABX9TyP9j48g1ugJhp70fisQnY/G",
      "include_colab_link": true
    },
    "kernelspec": {
      "name": "python3",
      "display_name": "Python 3"
    },
    "language_info": {
      "name": "python"
    }
  },
  "cells": [
    {
      "cell_type": "markdown",
      "metadata": {
        "id": "view-in-github",
        "colab_type": "text"
      },
      "source": [
        "<a href=\"https://colab.research.google.com/github/ferdousur/skillmorph/blob/main/1st_class_assignmient.ipynb\" target=\"_parent\"><img src=\"https://colab.research.google.com/assets/colab-badge.svg\" alt=\"Open In Colab\"/></a>"
      ]
    },
    {
      "cell_type": "markdown",
      "source": [
        "2.1. Try it yourself: Create variables for your name, age, and favorite color, then print them with descriptive labels.\n",
        "\n",
        "\n",
        "2.2. Try it yourself: Create one variable of each type and use the type() function to verify its type.\n",
        "\n",
        "\n",
        "2.3. Try it yourself: Calculate the area and perimeter of a rectangle with length 7 and width 5.\n",
        "\n",
        "\n",
        "2.4. Try it yourself: Create a list of 5 Bangladeshi foods, then access the first and\n",
        "last elements.\n",
        "\n",
        "2.5 Try it yourself: Create a list of 5 numbers, add a new number, remove one, and then sort the list.\n",
        "\n",
        "\n",
        "2.6 Try it yourself: Create a dictionary about yourself with at least 4 key-value pairs.\n",
        "\n",
        "\n",
        "2.7 Try it yourself: Create a tuple with the latitude and longitude of a famous place in Bangladesh.\n",
        "\n",
        "\n",
        "2.8 Try it yourself: Create two sets of colors and find their union and intersection.\n",
        "\n",
        "\n",
        "2.9 Try it yourself: Write a program that checks if a number is positive, negative, or zero.\n",
        "\n",
        "\n",
        "2.10 Try it yourself: Write a program that checks eligibility for a discount (student AND under 25, OR senior over 60).\n",
        "\n",
        "\n",
        "2.11 Try it yourself: Write a program that prints the first 10 even numbers\n",
        "using a for or while loop.\n",
        "\n",
        "\n",
        "2.12 Try it yourself: Write a program that prints a simple number pyramid pattern using nested loops.\n",
        "\n",
        "2.13 Try it yourself: Create a function that converts temperature from Celsius to Fahrenheit using the formula: F = (C × 9/5) + 32\n",
        "\n",
        "\n",
        "2.14 Try it yourself: Create a function with default parameters that calculates the area of a rectangle."
      ],
      "metadata": {
        "id": "IrC1thvf3cyS"
      }
    },
    {
      "cell_type": "markdown",
      "source": [
        "# 2.1. Try it yourself: Create variables for your name, age, and favorite color, then print them with descriptive labels."
      ],
      "metadata": {
        "id": "dzVClrfXumo7"
      }
    },
    {
      "cell_type": "code",
      "source": [
        "my_name= \"Ferdousur Rahman.\"\n",
        "my_age=26\n",
        "my_fav_clr=\"Black.\"\n",
        "\n",
        "print(\"My name is\",my_name,\"I'am \", my_age, \"years old.\", \"My favorite color is \",my_fav_clr)\n",
        "\n"
      ],
      "metadata": {
        "colab": {
          "base_uri": "https://localhost:8080/"
        },
        "id": "fF_yIaM3ut1K",
        "outputId": "1bce0d1c-a4d9-46c5-a736-b32336b06460"
      },
      "execution_count": 10,
      "outputs": [
        {
          "output_type": "stream",
          "name": "stdout",
          "text": [
            "My name is Ferdousur Rahman. I'am  26 years old. My favorite color is  Black.\n"
          ]
        }
      ]
    },
    {
      "cell_type": "markdown",
      "source": [
        "2.2. Try it yourself: Create one variable of each type and use the type() function to verify its type."
      ],
      "metadata": {
        "id": "-8ue8TIau1-0"
      }
    },
    {
      "cell_type": "code",
      "source": [
        "my_name= \"Ferdousur Rahman.\"\n",
        "my_age=26\n",
        "my_age_full=26.3\n",
        "my_fav_clr=\"Black.\"\n",
        "is_male= True\n",
        "\n",
        "print(type(my_age))\n",
        "print(type(my_age_full))\n",
        "print(type(my_fav_clr))\n",
        "print(type(is_male))\n",
        "# different way\n",
        "print(type(my_age), type(my_age_full), type(my_fav_clr), type(is_male))\n"
      ],
      "metadata": {
        "colab": {
          "base_uri": "https://localhost:8080/"
        },
        "id": "RyTpadeau5JD",
        "outputId": "c51db33e-1af3-4a0b-814a-df5b023b9abf"
      },
      "execution_count": 16,
      "outputs": [
        {
          "output_type": "stream",
          "name": "stdout",
          "text": [
            "<class 'int'>\n",
            "<class 'float'>\n",
            "<class 'str'>\n",
            "<class 'bool'>\n",
            "<class 'int'> <class 'float'> <class 'str'> <class 'bool'>\n"
          ]
        }
      ]
    },
    {
      "cell_type": "markdown",
      "source": [
        "2.3. Try it yourself: Calculate the area and perimeter of a\n",
        "rectangle with length 7 and width 5."
      ],
      "metadata": {
        "id": "vF8pcZ28xIl7"
      }
    },
    {
      "cell_type": "code",
      "source": [
        "rectangle_length=7\n",
        "rectangle_width=5\n",
        "area=rectangle_length*rectangle_width\n",
        "perimeter=2*(rectangle_length+rectangle_width)\n",
        "print(\"Rectangle Area:\",area)\n",
        "print(\"Rectangle Area:\",perimeter)\n"
      ],
      "metadata": {
        "colab": {
          "base_uri": "https://localhost:8080/"
        },
        "id": "rN20gSDtv_kZ",
        "outputId": "4bbc5f75-da4f-4de7-ecc4-1119401462fe"
      },
      "execution_count": 18,
      "outputs": [
        {
          "output_type": "stream",
          "name": "stdout",
          "text": [
            "Rectangle Area: 35\n",
            "Rectangle Area: 24\n"
          ]
        }
      ]
    },
    {
      "cell_type": "markdown",
      "source": [
        "\n",
        "2.4. Try it yourself: Create a list of 5 Bangladeshi foods, then access the first and last elements."
      ],
      "metadata": {
        "id": "QpM6_dhUz8BA"
      }
    },
    {
      "cell_type": "code",
      "source": [
        "foods_bd=['rice', 'fish', 'potato', 'egg', 'milk' ]\n",
        "print(\"First Element:\",foods_bd[0])\n",
        "print(\"Last Element:\",foods_bd[4])\n"
      ],
      "metadata": {
        "colab": {
          "base_uri": "https://localhost:8080/"
        },
        "id": "ELeC-Bsn0BOQ",
        "outputId": "d5fb6853-f00a-4135-c539-c5880757cdca"
      },
      "execution_count": 29,
      "outputs": [
        {
          "output_type": "stream",
          "name": "stdout",
          "text": [
            "First Element: rice\n",
            "Last Element: milk\n"
          ]
        }
      ]
    },
    {
      "cell_type": "markdown",
      "source": [
        "\n",
        "2.5 Try it yourself: Create a list of 5 numbers, add a new number, remove one, and then sort the list."
      ],
      "metadata": {
        "id": "baHHYgVa2boL"
      }
    },
    {
      "cell_type": "code",
      "source": [
        "sort_five_number=[5,3,1,2,4]\n",
        "sort_five_number.pop()\n",
        "sort_five_number.sort()\n",
        "print(sort_five_number)"
      ],
      "metadata": {
        "colab": {
          "base_uri": "https://localhost:8080/"
        },
        "id": "P2KW1tNg2fb6",
        "outputId": "e2f55df5-68c6-4d27-ddc7-cb7144dfc3e7"
      },
      "execution_count": 32,
      "outputs": [
        {
          "output_type": "stream",
          "name": "stdout",
          "text": [
            "[1, 2, 3, 5]\n"
          ]
        }
      ]
    },
    {
      "cell_type": "code",
      "source": [],
      "metadata": {
        "id": "_CfRhQ6S3GP4"
      },
      "execution_count": null,
      "outputs": []
    }
  ]
}