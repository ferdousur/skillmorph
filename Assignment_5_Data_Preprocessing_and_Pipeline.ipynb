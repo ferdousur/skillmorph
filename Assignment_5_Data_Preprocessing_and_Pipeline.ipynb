{
  "nbformat": 4,
  "nbformat_minor": 0,
  "metadata": {
    "colab": {
      "provenance": [],
      "include_colab_link": true
    },
    "kernelspec": {
      "name": "python3",
      "display_name": "Python 3"
    },
    "language_info": {
      "name": "python"
    }
  },
  "cells": [
    {
      "cell_type": "markdown",
      "metadata": {
        "id": "view-in-github",
        "colab_type": "text"
      },
      "source": [
        "<a href=\"https://colab.research.google.com/github/ferdousur/skillmorph/blob/main/Assignment_5_Data_Preprocessing_and_Pipeline.ipynb\" target=\"_parent\"><img src=\"https://colab.research.google.com/assets/colab-badge.svg\" alt=\"Open In Colab\"/></a>"
      ]
    },
    {
      "cell_type": "code",
      "execution_count": 19,
      "metadata": {
        "id": "kxzHrZ-S1J5-",
        "colab": {
          "base_uri": "https://localhost:8080/"
        },
        "outputId": "8fd6948e-9885-4fee-9243-6702a74f457f"
      },
      "outputs": [
        {
          "output_type": "stream",
          "name": "stdout",
          "text": [
            "Drive already mounted at /content/drive; to attempt to forcibly remount, call drive.mount(\"/content/drive\", force_remount=True).\n",
            "Number of houses: 545\n",
            "      price  area  bedrooms  bathrooms  stories mainroad guestroom basement  \\\n",
            "0  13300000  7420         4          2        3      yes        no       no   \n",
            "1  12250000  8960         4          4        4      yes        no       no   \n",
            "2  12250000  9960         3          2        2      yes        no      yes   \n",
            "\n",
            "  hotwaterheating airconditioning  parking prefarea furnishingstatus  \n",
            "0              no             yes        2      yes        furnished  \n",
            "1              no             yes        3       no        furnished  \n",
            "2              no              no        2      yes   semi-furnished  \n"
          ]
        }
      ],
      "source": [
        "#Load the Data\n",
        "import pandas as pd\n",
        "import numpy as np\n",
        "from sklearn.model_selection import train_test_split, cross_val_score\n",
        "from sklearn.preprocessing import StandardScaler\n",
        "from sklearn.preprocessing import MinMaxScaler\n",
        "\n",
        "from sklearn.preprocessing import LabelBinarizer\n",
        "from sklearn.preprocessing import LabelEncoder\n",
        "from sklearn.linear_model import LinearRegression , LogisticRegression\n",
        "from google.colab import drive\n",
        "\n",
        "\n",
        "# TODO: Load the housing data\n",
        "drive.mount('/content/drive')\n",
        "df = pd.read_csv('/content/drive/My Drive/datasets/Housing.csv')\n",
        "\n",
        "# TODO: How many houses are there?\n",
        "print(f\"Number of houses:\", df.shape[0]) # Fill this\n",
        "\n",
        "# TODO: Show first 3 houses\n",
        "# Your code here\n",
        "print(df.head(3))"
      ]
    },
    {
      "cell_type": "code",
      "source": [
        "# Look at Columns\n",
        "# TODO: Show all column names\n",
        "print(\"Columns:\")\n",
        "# Your code here\n",
        "print(\"Columns:\", df.columns.tolist())\n",
        "\n",
        "# TODO: Show data types of columns\n",
        "print(\"Data types:\", df.dtypes)"
      ],
      "metadata": {
        "id": "jY6xciSB1fGX",
        "colab": {
          "base_uri": "https://localhost:8080/"
        },
        "outputId": "de932832-3485-4427-cfce-974a014057cd"
      },
      "execution_count": 7,
      "outputs": [
        {
          "output_type": "stream",
          "name": "stdout",
          "text": [
            "Columns:\n",
            "Columns: ['price', 'area', 'bedrooms', 'bathrooms', 'stories', 'mainroad', 'guestroom', 'basement', 'hotwaterheating', 'airconditioning', 'parking', 'prefarea', 'furnishingstatus']\n",
            "Data types: price                int64\n",
            "area                 int64\n",
            "bedrooms             int64\n",
            "bathrooms            int64\n",
            "stories              int64\n",
            "mainroad            object\n",
            "guestroom           object\n",
            "basement            object\n",
            "hotwaterheating     object\n",
            "airconditioning     object\n",
            "parking              int64\n",
            "prefarea            object\n",
            "furnishingstatus    object\n",
            "dtype: object\n"
          ]
        }
      ]
    },
    {
      "cell_type": "code",
      "source": [
        "#Convert Yes/No to 1/0\n",
        "# Check what's in our data\n",
        "print(\"Current mainroad values:\", df['mainroad'].head())\n",
        "# Shows: yes, no, yes, yes, no\n",
        "\n",
        "# Models need numbers, not text!\n",
        "# We need: yes → 1, no → 0\n",
        "\n",
        "minored_encoded=LabelEncoder()\n",
        "df[\"mainroad encoded\"]=minored_encoded.fit_transform(df[\"mainroad\"])\n",
        "print(df[[\"mainroad\", \"mainroad encoded\"]])\n",
        "\n",
        "\n",
        "guestroom_encoded=LabelEncoder()\n",
        "df[\"guestroom encoded\"]=guestroom_encoded.fit_transform(df[\"guestroom\"])\n",
        "print(df[[\"guestroom\", \"guestroom encoded\"]])\n",
        "\n",
        "\n",
        "basement_encoded=LabelEncoder()\n",
        "df[\"basement encoded\"]=basement_encoded.fit_transform(df[\"basement\"])\n",
        "print(df[[\"basement\", \"basement encoded\"]])\n",
        "\n",
        "hotwaterheating_encoded=LabelEncoder()\n",
        "df[\"hotwaterheating encoded\"]=hotwaterheating_encoded.fit_transform(df[\"hotwaterheating\"])\n",
        "print(df[[\"hotwaterheating\", \"hotwaterheating encoded\"]])\n",
        "\n",
        "airconditioning_encoded=LabelEncoder()\n",
        "df[\"airconditioning encoded\"]=airconditioning_encoded.fit_transform(df[\"airconditioning\"])\n",
        "print(df[[\"airconditioning\", \"airconditioning encoded\"]])\n",
        "\n",
        "prefarea_encoded=LabelEncoder()\n",
        "df[\"prefarea encoded\"]=prefarea_encoded.fit_transform(df[\"prefarea\"])\n",
        "print(df[[\"prefarea\", \"prefarea encoded\"]])\n",
        "\n",
        "furnishingstatus_encoded=LabelEncoder()\n",
        "df[\"furnishingstatus encoded\"]=furnishingstatus_encoded.fit_transform(df[\"furnishingstatus\"])\n",
        "print(df[[\"furnishingstatus\", \"furnishingstatus encoded\"]])\n"
      ],
      "metadata": {
        "id": "MwB1ZgVl1plX",
        "colab": {
          "base_uri": "https://localhost:8080/"
        },
        "outputId": "d1059cfe-8692-4032-c9cc-2aa1e24ca385"
      },
      "execution_count": 20,
      "outputs": [
        {
          "output_type": "stream",
          "name": "stdout",
          "text": [
            "Current mainroad values: 0    yes\n",
            "1    yes\n",
            "2    yes\n",
            "3    yes\n",
            "4    yes\n",
            "Name: mainroad, dtype: object\n",
            "    mainroad  mainroad encoded\n",
            "0        yes                 1\n",
            "1        yes                 1\n",
            "2        yes                 1\n",
            "3        yes                 1\n",
            "4        yes                 1\n",
            "..       ...               ...\n",
            "540      yes                 1\n",
            "541       no                 0\n",
            "542      yes                 1\n",
            "543       no                 0\n",
            "544      yes                 1\n",
            "\n",
            "[545 rows x 2 columns]\n",
            "    guestroom  guestroom encoded\n",
            "0          no                  0\n",
            "1          no                  0\n",
            "2          no                  0\n",
            "3          no                  0\n",
            "4         yes                  1\n",
            "..        ...                ...\n",
            "540        no                  0\n",
            "541        no                  0\n",
            "542        no                  0\n",
            "543        no                  0\n",
            "544        no                  0\n",
            "\n",
            "[545 rows x 2 columns]\n",
            "    basement  basement encoded\n",
            "0         no                 0\n",
            "1         no                 0\n",
            "2        yes                 1\n",
            "3        yes                 1\n",
            "4        yes                 1\n",
            "..       ...               ...\n",
            "540      yes                 1\n",
            "541       no                 0\n",
            "542       no                 0\n",
            "543       no                 0\n",
            "544       no                 0\n",
            "\n",
            "[545 rows x 2 columns]\n",
            "    hotwaterheating  hotwaterheating encoded\n",
            "0                no                        0\n",
            "1                no                        0\n",
            "2                no                        0\n",
            "3                no                        0\n",
            "4                no                        0\n",
            "..              ...                      ...\n",
            "540              no                        0\n",
            "541              no                        0\n",
            "542              no                        0\n",
            "543              no                        0\n",
            "544              no                        0\n",
            "\n",
            "[545 rows x 2 columns]\n",
            "    airconditioning  airconditioning encoded\n",
            "0               yes                        1\n",
            "1               yes                        1\n",
            "2                no                        0\n",
            "3               yes                        1\n",
            "4               yes                        1\n",
            "..              ...                      ...\n",
            "540              no                        0\n",
            "541              no                        0\n",
            "542              no                        0\n",
            "543              no                        0\n",
            "544              no                        0\n",
            "\n",
            "[545 rows x 2 columns]\n",
            "    prefarea  prefarea encoded\n",
            "0        yes                 1\n",
            "1         no                 0\n",
            "2        yes                 1\n",
            "3        yes                 1\n",
            "4         no                 0\n",
            "..       ...               ...\n",
            "540       no                 0\n",
            "541       no                 0\n",
            "542       no                 0\n",
            "543       no                 0\n",
            "544       no                 0\n",
            "\n",
            "[545 rows x 2 columns]\n",
            "    furnishingstatus  furnishingstatus encoded\n",
            "0          furnished                         0\n",
            "1          furnished                         0\n",
            "2     semi-furnished                         1\n",
            "3          furnished                         0\n",
            "4          furnished                         0\n",
            "..               ...                       ...\n",
            "540      unfurnished                         2\n",
            "541   semi-furnished                         1\n",
            "542      unfurnished                         2\n",
            "543        furnished                         0\n",
            "544      unfurnished                         2\n",
            "\n",
            "[545 rows x 2 columns]\n"
          ]
        }
      ]
    },
    {
      "cell_type": "code",
      "source": [
        "# Split into Train and Test\n",
        "# TODO: Split - 80% train, 20% test\n",
        "\n",
        "x=df[['area', 'bedrooms', 'bathrooms', 'stories',\n",
        "       'parking', 'mainroad encoded',\n",
        "       'guestroom encoded', 'basement encoded', 'hotwaterheating encoded',\n",
        "       'airconditioning encoded', 'prefarea encoded',\n",
        "       'furnishingstatus encoded'\n",
        "       ]]\n",
        "y=df['price']\n",
        "\n",
        "#Split 80% for training & 20% testing\n",
        "x_train, x_test, y_train, y_test = train_test_split(x, y, test_size=0.2, random_state=20)\n",
        "\n",
        "print(len(x_train))\n",
        "print(len(x_test))\n",
        "print(len(y_train))\n",
        "print(len(y_test))\n"
      ],
      "metadata": {
        "id": "CGWFD9Do1w2J",
        "colab": {
          "base_uri": "https://localhost:8080/"
        },
        "outputId": "9a115d51-b0fe-481c-8f6c-0f2fc0d3aabc"
      },
      "execution_count": 21,
      "outputs": [
        {
          "output_type": "stream",
          "name": "stdout",
          "text": [
            "436\n",
            "109\n",
            "436\n",
            "109\n"
          ]
        }
      ]
    },
    {
      "cell_type": "code",
      "source": [
        "#Apply StandardScaler\n",
        "# Area is huge (1650-13300), Bedrooms is small (1-6)!\n",
        "#Your Code here\n",
        "scaler=StandardScaler()\n",
        "x_train_scaler=scaler.fit_transform(x_train)\n",
        "x_test_scaler=scaler.transform(x_test)\n",
        "# print(x_train_scaler[0][1])\n",
        "\n",
        "minmaxscaler=MinMaxScaler()\n",
        "x_train_minmax=minmaxscaler.fit_transform(x_train)\n",
        "x_test_minmax=minmaxscaler.transform(x_test)\n",
        "# print(x_train_minmax[0][1])\n"
      ],
      "metadata": {
        "id": "ORsVWo8E18y1"
      },
      "execution_count": 22,
      "outputs": []
    },
    {
      "cell_type": "code",
      "source": [
        "#train and test model\n",
        "#your code here\n",
        "model=LinearRegression()\n",
        "\n",
        "# model=LogisticRegression(max_iter=1000)\n",
        "\n",
        "model.fit(x_train_scaler, y_train)\n",
        "\n",
        "\n",
        "train_score=model.score(x_train_scaler, y_train)\n",
        "print(f\"{train_score:.1%}\")\n",
        "\n",
        "test_score=model.score(x_test_scaler, y_test)\n",
        "print(f\"{test_score:.1%}\")\n",
        "\n",
        "score=cross_val_score(model, x_train_scaler, y_train, cv=5)\n",
        "\n",
        "for i in range(5):\n",
        "    print(f\" Test {i+1} : {score[i]:.1%}\")\n",
        "\n",
        "\n",
        "print(f\"Average Score for training: {score.mean():.1%}\")\n",
        "\n"
      ],
      "metadata": {
        "id": "khBlvU-f2QnW",
        "colab": {
          "base_uri": "https://localhost:8080/"
        },
        "outputId": "7d8bc138-ca22-44f4-f66c-6a7ab8167d80"
      },
      "execution_count": 17,
      "outputs": [
        {
          "output_type": "stream",
          "name": "stdout",
          "text": [
            "67.5%\n",
            "67.9%\n",
            " Test 1 : 65.4%\n",
            " Test 2 : 72.1%\n",
            " Test 3 : 62.4%\n",
            " Test 4 : 62.5%\n",
            " Test 5 : 62.3%\n",
            "Average Score for training: 64.9%\n"
          ]
        }
      ]
    },
    {
      "cell_type": "code",
      "source": [
        "# Predict a House Price\n",
        "# New house details:\n",
        "# area=5000, bedrooms=3, bathrooms=2, stories=2,\n",
        "# mainroad=yes, guestroom=no, basement=yes,\n",
        "# hotwaterheating=no, airconditioning=yes,\n",
        "# parking=2, prefarea=yes, furnishingstatus=furnished\n",
        "#your code here\n",
        "new_house = pd.DataFrame([{\n",
        "    'area': 5000,\n",
        "    'bedrooms': 3,\n",
        "    'bathrooms': 2,\n",
        "    'stories': 2,\n",
        "    'parking': 2,\n",
        "    'mainroad encoded': 1,\n",
        "    'guestroom encoded': 0,\n",
        "    'basement encoded': 1,\n",
        "    'hotwaterheating encoded': 0,\n",
        "    'airconditioning encoded': 1,\n",
        "    'prefarea encoded': 1,\n",
        "    'furnishingstatus encoded': 2\n",
        "}])\n",
        "\n",
        "new_house_scaled = scaler.transform(new_house)\n",
        "predicted_price = model.predict(new_house_scaled)\n",
        "\n",
        "print(f\"Predicted Price: {round(predicted_price[0])}\")\n"
      ],
      "metadata": {
        "id": "no5CjmoK2aHb",
        "colab": {
          "base_uri": "https://localhost:8080/"
        },
        "outputId": "ff047ae9-941c-40b8-c9f9-041023a457c3"
      },
      "execution_count": 18,
      "outputs": [
        {
          "output_type": "stream",
          "name": "stdout",
          "text": [
            "Predicted Price: 7000906\n"
          ]
        }
      ]
    }
  ]
}