{
  "nbformat": 4,
  "nbformat_minor": 0,
  "metadata": {
    "colab": {
      "provenance": [],
      "toc_visible": true,
      "authorship_tag": "ABX9TyNczYc/V56ahuVp8W5q2hXv",
      "include_colab_link": true
    },
    "kernelspec": {
      "name": "python3",
      "display_name": "Python 3"
    },
    "language_info": {
      "name": "python"
    }
  },
  "cells": [
    {
      "cell_type": "markdown",
      "metadata": {
        "id": "view-in-github",
        "colab_type": "text"
      },
      "source": [
        "<a href=\"https://colab.research.google.com/github/ferdousur/skillmorph/blob/main/1st_class_assignmient.ipynb\" target=\"_parent\"><img src=\"https://colab.research.google.com/assets/colab-badge.svg\" alt=\"Open In Colab\"/></a>"
      ]
    },
    {
      "cell_type": "markdown",
      "source": [
        "**2nd Class Assignment**\n",
        "\n",
        "2.1. Try it yourself: Create variables for your name, age, and favorite color, then print them with descriptive labels."
      ],
      "metadata": {
        "id": "IrC1thvf3cyS"
      }
    },
    {
      "cell_type": "code",
      "source": [
        "my_name= \"Ferdousur Rahman.\"\n",
        "my_age=26\n",
        "my_fav_clr=\"Black.\"\n",
        "\n",
        "print(\"My name is\",my_name,\"I'am \", my_age, \"years old.\", \"My favorite color is \",my_fav_clr)\n",
        "\n"
      ],
      "metadata": {
        "colab": {
          "base_uri": "https://localhost:8080/"
        },
        "id": "fF_yIaM3ut1K",
        "outputId": "d4be7da1-3b8a-4cb2-9622-2f12741f73f5"
      },
      "execution_count": 28,
      "outputs": [
        {
          "output_type": "stream",
          "name": "stdout",
          "text": [
            "My name is Ferdousur Rahman. I'am  26 years old. My favorite color is  Black.\n"
          ]
        }
      ]
    },
    {
      "cell_type": "markdown",
      "source": [
        "2.2. Try it yourself: Create one variable of each type and use the type() function to verify its type."
      ],
      "metadata": {
        "id": "-8ue8TIau1-0"
      }
    },
    {
      "cell_type": "code",
      "source": [
        "my_name= \"Ferdousur Rahman.\"\n",
        "my_age=26\n",
        "my_age_full=26.3\n",
        "my_fav_clr=\"Black.\"\n",
        "is_male= True\n",
        "\n",
        "print(type(my_age))\n",
        "print(type(my_age_full))\n",
        "print(type(my_fav_clr))\n",
        "print(type(is_male))\n",
        "# different way\n",
        "print(type(my_age), type(my_age_full), type(my_fav_clr), type(is_male))\n"
      ],
      "metadata": {
        "colab": {
          "base_uri": "https://localhost:8080/"
        },
        "id": "RyTpadeau5JD",
        "outputId": "c51db33e-1af3-4a0b-814a-df5b023b9abf"
      },
      "execution_count": null,
      "outputs": [
        {
          "output_type": "stream",
          "name": "stdout",
          "text": [
            "<class 'int'>\n",
            "<class 'float'>\n",
            "<class 'str'>\n",
            "<class 'bool'>\n",
            "<class 'int'> <class 'float'> <class 'str'> <class 'bool'>\n"
          ]
        }
      ]
    },
    {
      "cell_type": "markdown",
      "source": [
        "2.3. Try it yourself: Calculate the area and perimeter of a\n",
        "rectangle with length 7 and width 5."
      ],
      "metadata": {
        "id": "vF8pcZ28xIl7"
      }
    },
    {
      "cell_type": "code",
      "source": [
        "rectangle_length=7\n",
        "rectangle_width=5\n",
        "area=rectangle_length*rectangle_width\n",
        "perimeter=2*(rectangle_length+rectangle_width)\n",
        "print(\"Rectangle Area:\",area)\n",
        "print(\"Rectangle Area:\",perimeter)\n"
      ],
      "metadata": {
        "colab": {
          "base_uri": "https://localhost:8080/"
        },
        "id": "rN20gSDtv_kZ",
        "outputId": "4bbc5f75-da4f-4de7-ecc4-1119401462fe"
      },
      "execution_count": null,
      "outputs": [
        {
          "output_type": "stream",
          "name": "stdout",
          "text": [
            "Rectangle Area: 35\n",
            "Rectangle Area: 24\n"
          ]
        }
      ]
    },
    {
      "cell_type": "markdown",
      "source": [
        "\n",
        "2.4. Try it yourself: Create a list of 5 Bangladeshi foods, then access the first and last elements."
      ],
      "metadata": {
        "id": "QpM6_dhUz8BA"
      }
    },
    {
      "cell_type": "code",
      "source": [
        "foods_bd=['rice', 'fish', 'potato', 'egg', 'milk' ]\n",
        "print(\"First Element:\",foods_bd[0])\n",
        "print(\"Last Element:\",foods_bd[4])\n",
        "\n",
        "print(foods_bd[::-1])\n",
        "print(foods_bd[0:3])\n",
        "foods_bd[0]=\"Bread\"\n",
        "print(foods_bd)\n",
        "\n",
        "foods_bd.append(\"mango\")\n",
        "foods_bd.insert(0, \"banana\")\n",
        "print(foods_bd)\n",
        "\n",
        "foods_bd.remove(\"banana\")\n",
        "foods_bd.pop(5)\n",
        "\n",
        "foods_bd.sort()\n",
        "print(foods_bd)\n",
        "foods_bd.reverse()\n",
        "print(foods_bd)"
      ],
      "metadata": {
        "colab": {
          "base_uri": "https://localhost:8080/"
        },
        "id": "ELeC-Bsn0BOQ",
        "outputId": "306204e8-455f-4d26-d452-4c3d11a36cac"
      },
      "execution_count": null,
      "outputs": [
        {
          "output_type": "stream",
          "name": "stdout",
          "text": [
            "First Element: rice\n",
            "Last Element: milk\n",
            "['milk', 'egg', 'potato', 'fish', 'rice']\n",
            "['rice', 'fish', 'potato']\n",
            "['Bread', 'fish', 'potato', 'egg', 'milk']\n",
            "['banana', 'Bread', 'fish', 'potato', 'egg', 'milk', 'mango']\n",
            "['Bread', 'egg', 'fish', 'milk', 'potato']\n",
            "['potato', 'milk', 'fish', 'egg', 'Bread']\n"
          ]
        }
      ]
    },
    {
      "cell_type": "markdown",
      "source": [
        "\n",
        "2.5 Try it yourself: Create a list of 5 numbers, add a new number, remove one, and then sort the list."
      ],
      "metadata": {
        "id": "baHHYgVa2boL"
      }
    },
    {
      "cell_type": "code",
      "source": [
        "sort_five_number=[5,3,1,2,4]\n",
        "sort_five_number.insert(0,11)\n",
        "sort_five_number.pop()\n",
        "sort_five_number.sort()\n",
        "print(sort_five_number)"
      ],
      "metadata": {
        "colab": {
          "base_uri": "https://localhost:8080/"
        },
        "id": "P2KW1tNg2fb6",
        "outputId": "6e22eac8-94d2-4319-b1de-85941ae29d98"
      },
      "execution_count": null,
      "outputs": [
        {
          "output_type": "stream",
          "name": "stdout",
          "text": [
            "[1, 2, 3, 5, 11]\n"
          ]
        }
      ]
    },
    {
      "cell_type": "markdown",
      "source": [
        "2.6 Try it yourself: Create a dictionary about yourself with at least 4 key-value pairs."
      ],
      "metadata": {
        "id": "aZcq-q5IrjxK"
      }
    },
    {
      "cell_type": "code",
      "source": [
        "my_bio={\n",
        "    \"Name\":\"Ferdous\",\n",
        "    \"Fathar's_Name\":\"Mizan\",\n",
        "    \"Mother's_Name\":\"Rasheda\",\n",
        "    \"Phone\":\"+8801789777578\",\n",
        "    \"is_male\": \"Yes\",\n",
        "    \"Email\":\"ferdousur.info@gmail.com\",\n",
        "    \"is_student\":\"No\",\n",
        "    \"study_on\":[\"Saic\", \"Uttara\", \"Adust\", \"Skillmorph\"],\n",
        "    \"job_on\":[\"Unique\",\"BTI\", \"AML\" ]\n",
        "}\n",
        "\n",
        "print(my_bio[\"study_on\"][3])\n",
        "\n",
        "if my_bio[\"is_male\"] == \"Yes\":\n",
        "    print(my_bio[\"job_on\"][2])\n"
      ],
      "metadata": {
        "colab": {
          "base_uri": "https://localhost:8080/"
        },
        "id": "I0g7YYA8rlqy",
        "outputId": "9340e1a0-c88f-49ec-cb35-01379f734559"
      },
      "execution_count": null,
      "outputs": [
        {
          "output_type": "stream",
          "name": "stdout",
          "text": [
            "Skillmorph\n",
            "AML\n"
          ]
        }
      ]
    },
    {
      "cell_type": "markdown",
      "source": [
        "2.7 Try it yourself: Create a tuple with the latitude and longitude of a famous place in Bangladesh."
      ],
      "metadata": {
        "id": "X-ll3fm357I_"
      }
    },
    {
      "cell_type": "code",
      "source": [
        "dhaka=(23.8,90.4)\n",
        "sundarbans=(21.947, 92.00)\n",
        "cox_bazar=(21.42, 92.00)\n",
        "# sylhet=(24.89, 91.86)\n",
        "# chittagong=(22.63, 92.21)\n",
        "# rangamati=(22.63, 92.1)\n",
        "# srimangal=(24.0, 91.72)\n",
        "# paharpur=(25.01, 88.96)\n",
        "\n",
        "\n",
        "print(\"latitude\",\"Dhaka:\", dhaka[0])\n",
        "print(\"longitude\",\"Dhaka\", dhaka[1])\n",
        "\n",
        "print(\"latitude\",\"Sundarbans:\", sundarbans[0])\n",
        "print(\"longitude\",\"Sundarbans\", sundarbans[1])\n",
        "\n",
        "print(\"latitude\",\"Cox Bazar:\", cox_bazar[0])\n",
        "print(\"longitude\",\"Cox Bazar\", cox_bazar[1])\n",
        "\n"
      ],
      "metadata": {
        "colab": {
          "base_uri": "https://localhost:8080/"
        },
        "id": "UZCz2VK258vP",
        "outputId": "196ce3c4-e4bd-4e4c-f88a-049d47e5074c"
      },
      "execution_count": null,
      "outputs": [
        {
          "output_type": "stream",
          "name": "stdout",
          "text": [
            "latitude Dhaka: 23.8\n",
            "longitude Dhaka 90.4\n",
            "latitude Sundarbans: 21.947\n",
            "longitude Sundarbans 92.0\n",
            "latitude Cox Bazar: 21.42\n",
            "longitude Cox Bazar 92.0\n"
          ]
        }
      ]
    },
    {
      "cell_type": "markdown",
      "source": [
        "2.8 Try it yourself: Create two sets of colors and find their union and intersection."
      ],
      "metadata": {
        "id": "tLxfWUQQ-3SU"
      }
    },
    {
      "cell_type": "code",
      "source": [
        "my_fav_clr={\"Royal Blue\", \"Emerald Green\", \"Crimson Red\", \"Golden Yellow\", \"Midnight Black\", \"Red\", \"Coral Pink\"}\n",
        "my_not_fav_clr={\"Turquoise\", \"Lavender\", \"Coral Pink\",\"Crimson Red\", \"Golden Yellow\", \"Teal\", \"Indigo\", \"Black\"}\n",
        "\n",
        "\n",
        "\n",
        "union_clr= my_fav_clr | my_not_fav_clr\n",
        "inter_clr=my_fav_clr & my_not_fav_clr\n",
        "\n",
        "print(\"All Without Duplicate:\", union_clr)\n",
        "\n",
        "print(\"Only Common:\",inter_clr)"
      ],
      "metadata": {
        "colab": {
          "base_uri": "https://localhost:8080/"
        },
        "id": "EXNamk6W-5T8",
        "outputId": "a3d35280-44d7-46fa-cc47-2b9d437348a4"
      },
      "execution_count": null,
      "outputs": [
        {
          "output_type": "stream",
          "name": "stdout",
          "text": [
            "All Without Duplicate: {'Emerald Green', 'Turquoise', 'Midnight Black', 'Black', 'Golden Yellow', 'Lavender', 'Indigo', 'Red', 'Teal', 'Crimson Red', 'Royal Blue', 'Coral Pink'}\n",
            "Only Common: {'Golden Yellow', 'Crimson Red', 'Coral Pink'}\n"
          ]
        }
      ]
    },
    {
      "cell_type": "markdown",
      "source": [
        "2.9 Try it yourself: Write a program that checks if a number is positive, negative, or zero."
      ],
      "metadata": {
        "id": "0zpF9urkFDUv"
      }
    },
    {
      "cell_type": "code",
      "source": [
        "the_number=int(input(\"Enter The Number:\"))\n",
        "\n",
        "if the_number>0:\n",
        "    print(\"This is positive Number\")\n",
        "elif the_number<0:\n",
        "     print(\"The Number is Negative\")\n",
        "elif the_number==0:\n",
        "    print(\"The Number is Zero\")\n"
      ],
      "metadata": {
        "colab": {
          "base_uri": "https://localhost:8080/"
        },
        "id": "OVZ4cdOIFFHf",
        "outputId": "7008b47a-7934-4ae1-b154-9a187431e1cf"
      },
      "execution_count": null,
      "outputs": [
        {
          "output_type": "stream",
          "name": "stdout",
          "text": [
            "Enter The Number:10\n",
            "This is positive Number\n"
          ]
        }
      ]
    },
    {
      "cell_type": "markdown",
      "source": [
        "2.10 Try it yourself: Write a program that checks eligibility for a discount (student AND under 25, OR senior over 60)."
      ],
      "metadata": {
        "id": "lDYfLnxVH9Dz"
      }
    },
    {
      "cell_type": "code",
      "source": [
        "age=int(input())\n",
        "if  age<25 or age > 60:\n",
        "    print(\"You are eligible for discount\")\n",
        "else:\n",
        "    print(\"You are not eligible for discount\")"
      ],
      "metadata": {
        "colab": {
          "base_uri": "https://localhost:8080/"
        },
        "id": "9Nuf1-cJifqr",
        "outputId": "c0d8cea1-e58b-456a-92a3-f93d25e53571"
      },
      "execution_count": null,
      "outputs": [
        {
          "output_type": "stream",
          "name": "stdout",
          "text": [
            "61\n",
            "You are eligible for discount\n"
          ]
        }
      ]
    },
    {
      "cell_type": "markdown",
      "source": [
        "2.11 Try it yourself: Write a program that prints the first 10 even numbers using a for or while loop."
      ],
      "metadata": {
        "id": "jIArjM8SlJKr"
      }
    },
    {
      "cell_type": "code",
      "source": [
        "for i in range(1,21,1):\n",
        "  if i % 2 == 0:\n",
        "    print(i)\n"
      ],
      "metadata": {
        "colab": {
          "base_uri": "https://localhost:8080/"
        },
        "id": "r0mxpvYalTZ-",
        "outputId": "999ddca3-38c9-4b43-e8aa-b7ab2490229c"
      },
      "execution_count": 21,
      "outputs": [
        {
          "output_type": "stream",
          "name": "stdout",
          "text": [
            "2\n",
            "4\n",
            "6\n",
            "8\n",
            "10\n",
            "12\n",
            "14\n",
            "16\n",
            "18\n",
            "20\n"
          ]
        }
      ]
    },
    {
      "cell_type": "markdown",
      "source": [
        "2.12 Try it yourself: Write a program that prints a simple number pyramid pattern using nested loops."
      ],
      "metadata": {
        "id": "ojQGTptBoWZJ"
      }
    },
    {
      "cell_type": "code",
      "source": [
        "n=20\n",
        "for i in range(0, n, 1):\n",
        "  for j in range(n-i-1,0,-1):\n",
        "    print(\" \", end=\"\")\n",
        "  for k in range(1,i+1,1):\n",
        "    print(\"* \", end=\"\")\n",
        "  print()\n"
      ],
      "metadata": {
        "id": "qUkIO7iJuP85",
        "colab": {
          "base_uri": "https://localhost:8080/"
        },
        "outputId": "d197da7a-4ddc-4903-a8d7-50088c2cbefb"
      },
      "execution_count": 17,
      "outputs": [
        {
          "output_type": "stream",
          "name": "stdout",
          "text": [
            "                   \n",
            "                  * \n",
            "                 * * \n",
            "                * * * \n",
            "               * * * * \n",
            "              * * * * * \n",
            "             * * * * * * \n",
            "            * * * * * * * \n",
            "           * * * * * * * * \n",
            "          * * * * * * * * * \n",
            "         * * * * * * * * * * \n",
            "        * * * * * * * * * * * \n",
            "       * * * * * * * * * * * * \n",
            "      * * * * * * * * * * * * * \n",
            "     * * * * * * * * * * * * * * \n",
            "    * * * * * * * * * * * * * * * \n",
            "   * * * * * * * * * * * * * * * * \n",
            "  * * * * * * * * * * * * * * * * * \n",
            " * * * * * * * * * * * * * * * * * * \n",
            "* * * * * * * * * * * * * * * * * * * \n"
          ]
        }
      ]
    },
    {
      "cell_type": "markdown",
      "source": [
        "2.13 Try it yourself: Create a function that converts temperature from Celsius to Fahrenheit using the formula: F = (C × 9/5) + 32"
      ],
      "metadata": {
        "id": "eDo7ZJkagzBY"
      }
    },
    {
      "cell_type": "code",
      "source": [
        "def temp_covert_celsius_to_Fahrenheit():\n",
        "    celcius=int(input(\"Enter Cencius:\"))\n",
        "    convert_to_F=(celcius*9/5)+32\n",
        "    print(\"Fahrenheit:\",convert_to_F)\n",
        "temp_covert_celsius_to_Fahrenheit()\n",
        ""
      ],
      "metadata": {
        "colab": {
          "base_uri": "https://localhost:8080/"
        },
        "id": "Sp0YDXh_g4CI",
        "outputId": "fe121223-572e-4af2-c941-89c7926e8a92"
      },
      "execution_count": 22,
      "outputs": [
        {
          "output_type": "stream",
          "name": "stdout",
          "text": [
            "Enter Cencius:60\n",
            "Fahrenheit: 140.0\n"
          ]
        }
      ]
    },
    {
      "cell_type": "markdown",
      "source": [
        "2.14 Try it yourself: Create a function with default parameters that calculates the area of a rectangle."
      ],
      "metadata": {
        "id": "Y-qtFVOTukCx"
      }
    },
    {
      "cell_type": "code",
      "source": [
        "def calculate_area():\n",
        "  l=int(input(\"Enter the width of rectangle:\"))\n",
        "  w=int(input(\"Enter the length of rectangle\"))\n",
        "  area=l*w\n",
        "  print(\"Area of rectangle is:\", area)\n",
        "\n",
        "\n",
        "calculate_area()\n"
      ],
      "metadata": {
        "colab": {
          "base_uri": "https://localhost:8080/"
        },
        "id": "ntGHmAQmum15",
        "outputId": "e6b36ca3-0725-4a4b-a763-2ed1b71d2958"
      },
      "execution_count": 27,
      "outputs": [
        {
          "output_type": "stream",
          "name": "stdout",
          "text": [
            "Enter the width of rectangle:10\n",
            "Enter the length of rectangle15\n",
            "Area of rectangle is: 150\n"
          ]
        }
      ]
    },
    {
      "cell_type": "code",
      "source": [],
      "metadata": {
        "id": "59fqGuswwPNF"
      },
      "execution_count": null,
      "outputs": []
    }
  ]
}